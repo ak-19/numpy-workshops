{
 "cells": [
  {
   "attachments": {},
   "cell_type": "markdown",
   "id": "a22d11fe",
   "metadata": {},
   "source": [
    "## 1.Slicing"
   ]
  },
  {
   "cell_type": "code",
   "execution_count": 4,
   "id": "36256082",
   "metadata": {},
   "outputs": [
    {
     "name": "stdout",
     "output_type": "stream",
     "text": [
      "[  0   1   4   9  16  25  36  49  64  81 100 121 144 169 196 225 256 289\n",
      " 324 361 400]\n"
     ]
    }
   ],
   "source": [
    "import numpy as np\n",
    "\n",
    "a = np.arange(21)\n",
    "p2 = a**2\n",
    "print(p2)"
   ]
  },
  {
   "cell_type": "code",
   "execution_count": 7,
   "id": "c2d73b86",
   "metadata": {},
   "outputs": [
    {
     "data": {
      "text/plain": [
       "array([  4,  16,  36,  64, 100, 144, 196, 256, 324])"
      ]
     },
     "execution_count": 7,
     "metadata": {},
     "output_type": "execute_result"
    }
   ],
   "source": [
    "p2[2:-2:2]"
   ]
  },
  {
   "cell_type": "code",
   "execution_count": 13,
   "id": "e2f4a75a",
   "metadata": {},
   "outputs": [
    {
     "data": {
      "text/plain": [
       "array([400, 289, 196, 121,  64,  25,   4])"
      ]
     },
     "execution_count": 13,
     "metadata": {},
     "output_type": "execute_result"
    }
   ],
   "source": [
    "p2[::-3]"
   ]
  },
  {
   "cell_type": "code",
   "execution_count": 38,
   "id": "45c2ffd4",
   "metadata": {},
   "outputs": [
    {
     "data": {
      "text/plain": [
       "array([361, 324, 289])"
      ]
     },
     "execution_count": 38,
     "metadata": {},
     "output_type": "execute_result"
    }
   ],
   "source": [
    "p2[-2:-5:-1]"
   ]
  },
  {
   "attachments": {},
   "cell_type": "markdown",
   "id": "cd771a5b",
   "metadata": {},
   "source": [
    "## 2. 2d Slicing"
   ]
  },
  {
   "cell_type": "code",
   "execution_count": 39,
   "id": "6ab82ae0",
   "metadata": {},
   "outputs": [
    {
     "data": {
      "text/plain": [
       "'ante'"
      ]
     },
     "execution_count": 39,
     "metadata": {},
     "output_type": "execute_result"
    }
   ],
   "source": [
    "people = np.array([['john', 'ante', 'peter'], ['1', '2', '3'], ['w', 'rw', 'a']], dtype='<U7')\n",
    "people[0, 1]"
   ]
  },
  {
   "cell_type": "code",
   "execution_count": 40,
   "id": "4e97e086",
   "metadata": {},
   "outputs": [
    {
     "data": {
      "text/plain": [
       "array([['ante', 'peter'],\n",
       "       ['2', '3']], dtype='<U7')"
      ]
     },
     "execution_count": 40,
     "metadata": {},
     "output_type": "execute_result"
    }
   ],
   "source": [
    "people[0:2, 1:3]"
   ]
  },
  {
   "cell_type": "code",
   "execution_count": 41,
   "id": "7f341c33",
   "metadata": {},
   "outputs": [
    {
     "data": {
      "text/plain": [
       "array([['a', 'rw', 'w'],\n",
       "       ['3', '2', '1'],\n",
       "       ['peter', 'ante', 'john']], dtype='<U7')"
      ]
     },
     "execution_count": 41,
     "metadata": {},
     "output_type": "execute_result"
    }
   ],
   "source": [
    "people[::-1, ::-1]"
   ]
  },
  {
   "attachments": {},
   "cell_type": "markdown",
   "id": "c2996e7c",
   "metadata": {},
   "source": [
    "## 3. 3d Slicing"
   ]
  },
  {
   "cell_type": "code",
   "execution_count": 43,
   "id": "55a74e81",
   "metadata": {},
   "outputs": [
    {
     "name": "stdout",
     "output_type": "stream",
     "text": [
      "[[['11' '11' '11']\n",
      "  ['33' '33' '33']\n",
      "  ['22' '22' '22']]\n",
      "\n",
      " [['a' 'rw' 'w']\n",
      "  ['3' '2' '1']\n",
      "  ['peter' 'ante' 'john']]]\n"
     ]
    }
   ],
   "source": [
    "cube = np.array([\n",
    "\n",
    "    [['john', 'ante', 'peter'], \n",
    "    ['1', '2', '3'], \n",
    "    ['w', 'rw', 'a']],\n",
    "    [['22', '22', '22'], \n",
    "    ['33', '33', '33'], \n",
    "    ['11', '11', '11']]    \n",
    "], dtype='<U7')\n",
    "\n",
    "print(cube[::-1, ::-1, ::-1])"
   ]
  }
 ],
 "metadata": {
  "kernelspec": {
   "display_name": "env",
   "language": "python",
   "name": "python3"
  },
  "language_info": {
   "codemirror_mode": {
    "name": "ipython",
    "version": 3
   },
   "file_extension": ".py",
   "mimetype": "text/x-python",
   "name": "python",
   "nbconvert_exporter": "python",
   "pygments_lexer": "ipython3",
   "version": "3.10.7"
  },
  "vscode": {
   "interpreter": {
    "hash": "12117ae2408d02082966138a70e14e365ea4e53f959e943b29d0d5dab2290316"
   }
  }
 },
 "nbformat": 4,
 "nbformat_minor": 5
}
