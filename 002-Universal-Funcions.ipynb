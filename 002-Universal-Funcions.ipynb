{
 "cells": [
  {
   "attachments": {},
   "cell_type": "markdown",
   "id": "a22d11fe",
   "metadata": {},
   "source": [
    "## 1.Basic Initialization"
   ]
  },
  {
   "cell_type": "code",
   "execution_count": 4,
   "id": "4ed800c6",
   "metadata": {},
   "outputs": [],
   "source": [
    "import numpy as np"
   ]
  },
  {
   "cell_type": "code",
   "execution_count": 7,
   "id": "571c4c23",
   "metadata": {},
   "outputs": [
    {
     "name": "stdout",
     "output_type": "stream",
     "text": [
      "[ 0 30 45 60 90]\n"
     ]
    }
   ],
   "source": [
    "angles = np.array([0, 30, 45, 60, 90])\n",
    "print(angles)"
   ]
  },
  {
   "cell_type": "code",
   "execution_count": 10,
   "id": "8cfaeac7",
   "metadata": {},
   "outputs": [
    {
     "name": "stdout",
     "output_type": "stream",
     "text": [
      "[0.         0.52359878 0.78539816 1.04719755 1.57079633]\n"
     ]
    }
   ],
   "source": [
    "rad = np.radians(angles)\n",
    "print(rad)"
   ]
  },
  {
   "cell_type": "code",
   "execution_count": 12,
   "id": "92082a3a",
   "metadata": {},
   "outputs": [
    {
     "name": "stdout",
     "output_type": "stream",
     "text": [
      "[0.         0.5        0.70710678 0.8660254  1.        ]\n"
     ]
    }
   ],
   "source": [
    "sines = np.sin(rad)\n",
    "print(sines)"
   ]
  },
  {
   "cell_type": "code",
   "execution_count": 14,
   "id": "1bd6f1b8",
   "metadata": {},
   "outputs": [
    {
     "name": "stdout",
     "output_type": "stream",
     "text": [
      "[1.00000000e+00 8.66025404e-01 7.07106781e-01 5.00000000e-01\n",
      " 6.12323400e-17]\n"
     ]
    }
   ],
   "source": [
    "cosines = np.cos(rad)\n",
    "print(cosines)"
   ]
  },
  {
   "cell_type": "code",
   "execution_count": 16,
   "id": "524ec64d",
   "metadata": {},
   "outputs": [
    {
     "name": "stdout",
     "output_type": "stream",
     "text": [
      "[ 0. 30. 45. 60. 90.]\n"
     ]
    }
   ],
   "source": [
    "print(np.degrees(np.arcsin(sines)))"
   ]
  },
  {
   "cell_type": "code",
   "execution_count": 19,
   "id": "29607981",
   "metadata": {},
   "outputs": [
    {
     "data": {
      "text/plain": [
       "array([0.24344463, 0.44509857, 0.14559155, 0.46803969, 0.75992038,\n",
       "       0.3856833 , 0.18847521, 0.31335039, 0.5194083 , 0.45766686])"
      ]
     },
     "execution_count": 19,
     "metadata": {},
     "output_type": "execute_result"
    }
   ],
   "source": [
    "score = np.random.random(10)\n",
    "score"
   ]
  },
  {
   "cell_type": "code",
   "execution_count": 31,
   "id": "641adafa",
   "metadata": {},
   "outputs": [],
   "source": [
    "average =np.mean(score)\n",
    "median = np.median(score)\n",
    "variance = np.var(score)\n",
    "standard_dev = np.std(score)"
   ]
  },
  {
   "cell_type": "code",
   "execution_count": 33,
   "id": "1dedd925",
   "metadata": {},
   "outputs": [
    {
     "name": "stdout",
     "output_type": "stream",
     "text": [
      "Average =  0.39266788646537343\n",
      "Median =  0.41539093514640346\n",
      "Variance =  0.029494127019332628\n",
      "Standard deviation =  0.17173854261444235\n"
     ]
    }
   ],
   "source": [
    "print(f'Average = ', average)\n",
    "print(f'Median = ', median)\n",
    "print(f'Variance = ', variance)\n",
    "print(f'Standard deviation = ', standard_dev)"
   ]
  }
 ],
 "metadata": {
  "kernelspec": {
   "display_name": "env",
   "language": "python",
   "name": "python3"
  },
  "language_info": {
   "codemirror_mode": {
    "name": "ipython",
    "version": 3
   },
   "file_extension": ".py",
   "mimetype": "text/x-python",
   "name": "python",
   "nbconvert_exporter": "python",
   "pygments_lexer": "ipython3",
   "version": "3.10.7"
  },
  "vscode": {
   "interpreter": {
    "hash": "12117ae2408d02082966138a70e14e365ea4e53f959e943b29d0d5dab2290316"
   }
  }
 },
 "nbformat": 4,
 "nbformat_minor": 5
}
