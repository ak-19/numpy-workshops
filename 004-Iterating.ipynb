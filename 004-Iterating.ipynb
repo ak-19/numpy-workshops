{
 "cells": [
  {
   "cell_type": "markdown",
   "id": "a22d11fe",
   "metadata": {},
   "source": [
    "## 1.Iterating"
   ]
  },
  {
   "cell_type": "code",
   "execution_count": 11,
   "id": "36256082",
   "metadata": {},
   "outputs": [
    {
     "name": "stdout",
     "output_type": "stream",
     "text": [
      "['ante' 'john' 'peter']\n",
      "['1' '2' '3']\n",
      "['w' 'rw' 'r']\n",
      "['ante' 'john' 'peter' '1' '2' '3' 'w' 'rw' 'r']\n",
      "['ante' '1' 'w' 'john' '2' 'rw' 'peter' '3' 'r']\n"
     ]
    }
   ],
   "source": [
    "import numpy as np\n",
    "\n",
    "A = np.array([['ante', 'john', 'peter'], [1,2,3], ['w', 'rw', 'r']])\n",
    "\n",
    "for i in A:\n",
    "    print(i)\n",
    "\n",
    "\n",
    "print(A.flatten())\n",
    "print(A.flatten(order='F'))"
   ]
  },
  {
   "cell_type": "code",
   "execution_count": 18,
   "id": "57eb986a",
   "metadata": {},
   "outputs": [
    {
     "name": "stdout",
     "output_type": "stream",
     "text": [
      "[[ 0  1  2  3]\n",
      " [ 4  5  6  7]\n",
      " [ 8  9 10 11]]\n",
      "0 1 2 3 4 5 6 7 8 9 10 11\n",
      "0 4 8 1 5 9 2 6 10 3 7 11\n"
     ]
    }
   ],
   "source": [
    "import numpy as np\n",
    "\n",
    "a = np.arange(12).reshape(3, 4)\n",
    "print(a)\n",
    "print(*np.nditer(a))\n",
    "print(*np.nditer(a, order='F'))\n"
   ]
  }
 ],
 "metadata": {
  "kernelspec": {
   "display_name": "Python 3 (ipykernel)",
   "language": "python",
   "name": "python3"
  },
  "language_info": {
   "codemirror_mode": {
    "name": "ipython",
    "version": 3
   },
   "file_extension": ".py",
   "mimetype": "text/x-python",
   "name": "python",
   "nbconvert_exporter": "python",
   "pygments_lexer": "ipython3",
   "version": "3.10.7"
  },
  "vscode": {
   "interpreter": {
    "hash": "12117ae2408d02082966138a70e14e365ea4e53f959e943b29d0d5dab2290316"
   }
  }
 },
 "nbformat": 4,
 "nbformat_minor": 5
}
