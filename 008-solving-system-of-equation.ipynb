{
 "cells": [
  {
   "attachments": {},
   "cell_type": "markdown",
   "id": "a22d11fe",
   "metadata": {},
   "source": [
    "## 1.2x2 system"
   ]
  },
  {
   "cell_type": "code",
   "execution_count": 15,
   "id": "eb99d017",
   "metadata": {},
   "outputs": [
    {
     "name": "stdout",
     "output_type": "stream",
     "text": [
      "[0.5 1. ]\n",
      "Determinant of given matrix A is 2.0\n"
     ]
    }
   ],
   "source": [
    "import numpy as np\n",
    "\n",
    "A = np.array([[2,3],[2,4]])    \n",
    "\n",
    "b = np.array([4,5])\n",
    "\n",
    "print(np.linalg.solve(A, b))\n",
    "print('Determinant of given matrix A is', np.linalg.det(A))"
   ]
  },
  {
   "attachments": {},
   "cell_type": "markdown",
   "id": "dd1f160f",
   "metadata": {},
   "source": [
    "## 2.3x3 system"
   ]
  },
  {
   "cell_type": "code",
   "execution_count": 23,
   "id": "4a6b026f",
   "metadata": {},
   "outputs": [
    {
     "name": "stdout",
     "output_type": "stream",
     "text": [
      "[ 2.77777778 -0.66666667  0.22222222]\n",
      "Determinant of given matrix A is 63.00000000000005\n"
     ]
    }
   ],
   "source": [
    "import numpy as np\n",
    "\n",
    "A = np.array([[2,3, 2],[1, -2,4], [3,1,-3]], dtype=np.float64)   \n",
    "b = np.array([4,5,7], dtype=np.float64)\n",
    "solution = np.linalg.solve(A, b)\n",
    "print(solution)\n",
    "print('Determinant of given matrix A is', np.linalg.det(A))"
   ]
  },
  {
   "cell_type": "code",
   "execution_count": 24,
   "id": "d43e04ef",
   "metadata": {},
   "outputs": [
    {
     "name": "stdout",
     "output_type": "stream",
     "text": [
      "[[ 2.  3.  2.  4.]\n",
      " [ 1. -2.  4.  5.]\n",
      " [ 3.  1. -3.  7.]]\n"
     ]
    }
   ],
   "source": [
    "M = np.hstack((A, b.reshape(3, 1)))\n",
    "print(M)"
   ]
  },
  {
   "cell_type": "code",
   "execution_count": 25,
   "id": "54eac8f4",
   "metadata": {},
   "outputs": [
    {
     "name": "stdout",
     "output_type": "stream",
     "text": [
      "[[ 2.  3.  2.  4.]\n",
      " [ 2. -4.  8. 10.]\n",
      " [ 3.  1. -3.  7.]]\n"
     ]
    }
   ],
   "source": [
    "def multiply_row_by(M, row_number, mul_with):\n",
    "    m_copy = M.copy()\n",
    "    m_copy[row_number] *= mul_with\n",
    "    return m_copy\n",
    "\n",
    "print(multiply_row_by(M, 1, 2))"
   ]
  },
  {
   "cell_type": "code",
   "execution_count": 26,
   "id": "0a6f8623",
   "metadata": {},
   "outputs": [
    {
     "name": "stdout",
     "output_type": "stream",
     "text": [
      "[[ 2.  3.  2.  4.]\n",
      " [ 1. -2.  4.  5.]\n",
      " [ 3.  1. -3.  7.]]\n",
      "[[  2.   3.   2.   4.]\n",
      " [  1.  -2.   4.   5.]\n",
      " [  0.   7. -15.  -8.]]\n"
     ]
    }
   ],
   "source": [
    "def add_rows_elimination(M, row_1, row_2, row_1_mul):\n",
    "    mc = M.copy()\n",
    "    mc[row_2] += mc[row_1] * row_1_mul\n",
    "    return mc\n",
    "\n",
    "print(M)\n",
    "print(add_rows_elimination(M, 1, 2, -3))"
   ]
  },
  {
   "cell_type": "code",
   "execution_count": 27,
   "id": "44f5e1c5",
   "metadata": {},
   "outputs": [
    {
     "name": "stdout",
     "output_type": "stream",
     "text": [
      "Before swap\n",
      "[[ 2.  3.  2.  4.]\n",
      " [ 1. -2.  4.  5.]\n",
      " [ 3.  1. -3.  7.]]\n",
      "After swap\n",
      "[[ 3.  1. -3.  7.]\n",
      " [ 1. -2.  4.  5.]\n",
      " [ 2.  3.  2.  4.]]\n"
     ]
    }
   ],
   "source": [
    "def  swap_rows(M, row_1, row_2):\n",
    "    mc = M.copy()\n",
    "    mc[[row_1, row_2]] = mc[[row_2, row_1]]\n",
    "    return mc\n",
    "\n",
    "print('Before swap')\n",
    "print(M)\n",
    "print('After swap')\n",
    "print(swap_rows(M, 0, 2))"
   ]
  },
  {
   "cell_type": "code",
   "execution_count": 43,
   "id": "d800666b",
   "metadata": {},
   "outputs": [
    {
     "name": "stdout",
     "output_type": "stream",
     "text": [
      "[[ 2.   3.   2.   4. ]\n",
      " [ 0.  -3.5  3.   3. ]\n",
      " [ 3.   1.  -3.   7. ]]\n"
     ]
    }
   ],
   "source": [
    "A = add_rows_elimination(M, 0, 1, -1/2)\n",
    "print(A)"
   ]
  },
  {
   "cell_type": "code",
   "execution_count": 44,
   "id": "c6b924b8",
   "metadata": {},
   "outputs": [
    {
     "name": "stdout",
     "output_type": "stream",
     "text": [
      "[[ 2.   3.   2.   4. ]\n",
      " [ 0.  -3.5  3.   3. ]\n",
      " [ 0.  -3.5 -6.   1. ]]\n"
     ]
    }
   ],
   "source": [
    "A = add_rows_elimination(A, 0, 2, -3/2)\n",
    "print(A)"
   ]
  },
  {
   "cell_type": "code",
   "execution_count": 45,
   "id": "18917c22",
   "metadata": {},
   "outputs": [
    {
     "name": "stdout",
     "output_type": "stream",
     "text": [
      "[[ 2.   3.   2.   4. ]\n",
      " [ 0.  -3.5  3.   3. ]\n",
      " [ 0.   0.  -9.  -2. ]]\n"
     ]
    }
   ],
   "source": [
    "A = add_rows_elimination(A, 1, 2, -1)\n",
    "print(A)"
   ]
  },
  {
   "cell_type": "code",
   "execution_count": 46,
   "id": "50b0ea7e",
   "metadata": {},
   "outputs": [],
   "source": [
    "A = multiply_row_by(A, 2, -1/9)"
   ]
  },
  {
   "cell_type": "code",
   "execution_count": 47,
   "id": "781875b4",
   "metadata": {},
   "outputs": [
    {
     "name": "stdout",
     "output_type": "stream",
     "text": [
      "[[ 2.          3.          2.          4.        ]\n",
      " [ 0.         -3.5         3.          3.        ]\n",
      " [-0.         -0.          1.          0.22222222]]\n"
     ]
    }
   ],
   "source": [
    "print(A)"
   ]
  },
  {
   "cell_type": "code",
   "execution_count": 51,
   "id": "03edec78",
   "metadata": {},
   "outputs": [],
   "source": [
    "x3 = 0.22222222\n",
    "x2 = (A[1,3] - x3*A[1,2]) / A[1,1]\n",
    "x1 = (A[0, 3] - A[0,1]* x2 - A[0,2] * x3) / A[0,0]"
   ]
  },
  {
   "cell_type": "code",
   "execution_count": 52,
   "id": "b7b3e66b",
   "metadata": {},
   "outputs": [
    {
     "name": "stdout",
     "output_type": "stream",
     "text": [
      "2.777777782857143 -0.6666666685714286 0.22222222\n"
     ]
    }
   ],
   "source": [
    "print(x1, x2, x3)"
   ]
  },
  {
   "cell_type": "code",
   "execution_count": null,
   "id": "e28f25cd",
   "metadata": {},
   "outputs": [],
   "source": []
  }
 ],
 "metadata": {
  "kernelspec": {
   "display_name": "Python 3",
   "language": "python",
   "name": "python3"
  },
  "language_info": {
   "codemirror_mode": {
    "name": "ipython",
    "version": 3
   },
   "file_extension": ".py",
   "mimetype": "text/x-python",
   "name": "python",
   "nbconvert_exporter": "python",
   "pygments_lexer": "ipython3",
   "version": "3.10.7"
  },
  "vscode": {
   "interpreter": {
    "hash": "916dbcbb3f70747c44a77c7bcd40155683ae19c65e1c03b4aa3499c5328201f1"
   }
  }
 },
 "nbformat": 4,
 "nbformat_minor": 5
}
