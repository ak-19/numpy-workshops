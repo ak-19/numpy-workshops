{
 "cells": [
  {
   "attachments": {},
   "cell_type": "markdown",
   "id": "a22d11fe",
   "metadata": {},
   "source": [
    "## 1.Image manipulation"
   ]
  },
  {
   "cell_type": "code",
   "execution_count": 2,
   "id": "eb99d017",
   "metadata": {},
   "outputs": [
    {
     "name": "stdout",
     "output_type": "stream",
     "text": [
      "[array([0, 1, 2]), array([3, 4, 5]), array([6, 7, 8])]\n",
      "[array([0, 1]), array([2, 3]), array([4, 5]), array([6, 7, 8])]\n"
     ]
    }
   ],
   "source": [
    "import numpy as np\n",
    "\n",
    "A = np.arange(9)    \n",
    "\n",
    "print(np.split(A, 3))\n",
    "\n",
    "print(np.split(A, [2,4, 6]))"
   ]
  }
 ],
 "metadata": {
  "kernelspec": {
   "display_name": "Python 3",
   "language": "python",
   "name": "python3"
  },
  "language_info": {
   "codemirror_mode": {
    "name": "ipython",
    "version": 3
   },
   "file_extension": ".py",
   "mimetype": "text/x-python",
   "name": "python",
   "nbconvert_exporter": "python",
   "pygments_lexer": "ipython3",
   "version": "3.10.7"
  },
  "vscode": {
   "interpreter": {
    "hash": "916dbcbb3f70747c44a77c7bcd40155683ae19c65e1c03b4aa3499c5328201f1"
   }
  }
 },
 "nbformat": 4,
 "nbformat_minor": 5
}
